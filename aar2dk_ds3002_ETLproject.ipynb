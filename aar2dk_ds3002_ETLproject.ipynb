{
 "cells": [
  {
   "cell_type": "markdown",
   "metadata": {},
   "source": [
    "# Anneda Rong (aar2dk) \n",
    "# University of Virginia\n",
    "# DS 3002 - Professor Jon Tupitza\n",
    "# ETL Pipeline Project - March 2022"
   ]
  },
  {
   "cell_type": "markdown",
   "metadata": {},
   "source": [
    "### Imports"
   ]
  },
  {
   "cell_type": "code",
   "execution_count": 1,
   "metadata": {},
   "outputs": [],
   "source": [
    "import os\n",
    "import numpy\n",
    "import pandas as pd\n",
    "import pymysql\n",
    "from sqlalchemy import create_engine\n",
    "import requests\n",
    "import json\n",
    "from pandas.io.json import json_normalize"
   ]
  },
  {
   "cell_type": "markdown",
   "metadata": {},
   "source": [
    "### Constants"
   ]
  },
  {
   "cell_type": "code",
   "execution_count": 2,
   "metadata": {},
   "outputs": [],
   "source": [
    "headers = {\n",
    "    'x-rapidapi-host': \"tasty.p.rapidapi.com\",\n",
    "    'x-rapidapi-key': \"7309b85eeamsh035b88dbc10b3bep18e452jsn850c209f1f60\"\n",
    "    }\n",
    "\n",
    "base_url = \"https://tasty.p.rapidapi.com\"\n",
    "recipe_data_key = 'results'\n",
    "tags_data_key = 'results'"
   ]
  },
  {
   "cell_type": "markdown",
   "metadata": {},
   "source": [
    "## Extract"
   ]
  },
  {
   "cell_type": "markdown",
   "metadata": {},
   "source": [
    "### API Call Function"
   ]
  },
  {
   "cell_type": "code",
   "execution_count": 3,
   "metadata": {},
   "outputs": [],
   "source": [
    "def api_call(url: str, params: dict):\n",
    "    api_request = base_url + url\n",
    "    response = requests.request(\"GET\",api_request,headers=headers,params=params)\n",
    "    def check_status_code(api_request):\n",
    "        if api_request.status_code != 200:\n",
    "            raise Exception (f\"Response was invalid: {api_request.status_code}\")\n",
    "        return (api_request)\n",
    "    data = response.text\n",
    "    return(data)"
   ]
  },
  {
   "cell_type": "code",
   "execution_count": 4,
   "metadata": {},
   "outputs": [],
   "source": [
    "base_url = \"https://tasty.p.rapidapi.com\"\n",
    "\n",
    "headers = {\n",
    "    'x-rapidapi-host': \"tasty.p.rapidapi.com\",\n",
    "    'x-rapidapi-key': \"7309b85eeamsh035b88dbc10b3bep18e452jsn850c209f1f60\"\n",
    "    }"
   ]
  },
  {
   "cell_type": "markdown",
   "metadata": {},
   "source": [
    "### API Calls / Extraction of Data"
   ]
  },
  {
   "cell_type": "markdown",
   "metadata": {},
   "source": [
    "#### All Recipes"
   ]
  },
  {
   "cell_type": "code",
   "execution_count": 5,
   "metadata": {},
   "outputs": [],
   "source": [
    "url = \"/recipes/list\"\n",
    "queryparams = {\"from\":\"0\",\"size\":\"40\"} # skip & take value\n",
    "\n",
    "all_recipes = api_call(url, queryparams)"
   ]
  },
  {
   "cell_type": "markdown",
   "metadata": {},
   "source": [
    "## Transform"
   ]
  },
  {
   "cell_type": "markdown",
   "metadata": {},
   "source": [
    "#### Transform Data Functions"
   ]
  },
  {
   "cell_type": "code",
   "execution_count": 6,
   "metadata": {},
   "outputs": [],
   "source": [
    "def construct_dataframe(json_data: str, data_key: str):\n",
    "    parse_json = json.loads(json_data)\n",
    "    df = pd.json_normalize(parse_json[data_key])\n",
    "    return(df)"
   ]
  },
  {
   "cell_type": "code",
   "execution_count": 7,
   "metadata": {},
   "outputs": [],
   "source": [
    "def filter_data(data, filtered_columns, isJSON=False, data_key=None):\n",
    "    if (isJSON):\n",
    "        if (data_key == None):\n",
    "            raise Exception('Data key argument cannot be none if JSON is supplied.')\n",
    "        df_data = construct_dataframe(data, data_key)\n",
    "    #check to see data_key != none bc if it is json, then we need a data key to be attached to it\n",
    "    else:\n",
    "        df_data = data \n",
    "    filtered_data = df_data[filtered_columns]\n",
    "    return(filtered_data)"
   ]
  },
  {
   "cell_type": "code",
   "execution_count": 8,
   "metadata": {},
   "outputs": [],
   "source": [
    "def add_pk_col(df,pk_name):\n",
    "    df.insert(0, pk_name, range(0, df.shape[0]))"
   ]
  },
  {
   "cell_type": "code",
   "execution_count": 9,
   "metadata": {},
   "outputs": [],
   "source": [
    "# transforming NaN values \n",
    "\n",
    "def transform_null(df,column_replace:dict = {},column_no_action:list = []):\n",
    "    '''\n",
    "    This function will transform the null values in a dataframe. The default action will be to drop the NULL values\n",
    "    unless specified in column_replace or column_no_action.\n",
    "    \n",
    "    Parameters:\n",
    "    df : Pandas.Dataframe\n",
    "        A dataframe object to be cleaned on\n",
    "    column_replace : dictionary\n",
    "        A dictionary object with (column:replace). Where column name is the key and the replacement value is the value.\n",
    "    column_no_action : list\n",
    "        A list of strings that contain column names of those that shouldn't be touch\n",
    "        \n",
    "    Return:\n",
    "    Pandas.DataFrame\n",
    "        A dataframe object that has been cleaned.\n",
    "    '''\n",
    "    new_df = None\n",
    "    columns = list(df.columns)\n",
    "    for column in column_no_action:\n",
    "        columns.remove(column)\n",
    "    new_df = df.fillna(column_replace)\n",
    "    new_df = new_df.dropna(subset = columns)\n",
    "    return(new_df)\n"
   ]
  },
  {
   "cell_type": "code",
   "execution_count": 10,
   "metadata": {},
   "outputs": [],
   "source": [
    "def drop_col(df,column_list):\n",
    "    newdf = df.drop(column_list,axis = 1)\n",
    "    return newdf"
   ]
  },
  {
   "cell_type": "code",
   "execution_count": 11,
   "metadata": {},
   "outputs": [],
   "source": [
    "def get_tags_table(df,cols):\n",
    "    subset_df = df[cols]\n",
    "    subset_df = subset_df.explode('tags')\n",
    "    subset_df['name'] = subset_df['tags'].str['name']\n",
    "    subset_df['type'] = subset_df['tags'].str['type']\n",
    "    final_tags_df = subset_df.drop('tags',axis=1)\n",
    "    return(final_tags_df)"
   ]
  },
  {
   "cell_type": "markdown",
   "metadata": {},
   "source": [
    "#### Data Transformations"
   ]
  },
  {
   "cell_type": "code",
   "execution_count": 12,
   "metadata": {},
   "outputs": [],
   "source": [
    "df_all_recipes = construct_dataframe(all_recipes, recipe_data_key)\n",
    "add_pk_col(df_all_recipes,'recipe_id')"
   ]
  },
  {
   "cell_type": "code",
   "execution_count": 13,
   "metadata": {},
   "outputs": [],
   "source": [
    "filtered_recipes = filter_data(df_all_recipes, ['recipe_id','name','user_ratings.count_positive','user_ratings.count_negative',\n",
    "                                                'user_ratings.score','total_time_minutes'])\n",
    "# filtered_recipes"
   ]
  },
  {
   "cell_type": "markdown",
   "metadata": {},
   "source": [
    "#### Change Column Names"
   ]
  },
  {
   "cell_type": "code",
   "execution_count": 14,
   "metadata": {},
   "outputs": [
    {
     "name": "stderr",
     "output_type": "stream",
     "text": [
      "/Applications/anaconda3/lib/python3.7/site-packages/pandas/core/frame.py:5047: SettingWithCopyWarning: \n",
      "A value is trying to be set on a copy of a slice from a DataFrame\n",
      "\n",
      "See the caveats in the documentation: https://pandas.pydata.org/pandas-docs/stable/user_guide/indexing.html#returning-a-view-versus-a-copy\n",
      "  errors=errors,\n"
     ]
    }
   ],
   "source": [
    "filtered_recipes.rename(columns={'name': 'recipe_name', 'user_ratings.count_positive': 'up_votes',\n",
    "                 'user_ratings.count_negative': 'down_votes', 'user_ratings.score': 'score'}, inplace=True)"
   ]
  },
  {
   "cell_type": "markdown",
   "metadata": {},
   "source": [
    "#### Transform Filtered Data"
   ]
  },
  {
   "cell_type": "code",
   "execution_count": 15,
   "metadata": {},
   "outputs": [],
   "source": [
    "column_replace = {'up_votes':0,'down_votes':0,'score':0,'total_time_minutes':0}\n",
    "df_clean = transform_null(filtered_recipes, column_replace)"
   ]
  },
  {
   "cell_type": "markdown",
   "metadata": {},
   "source": [
    "#### Add Popularity Column"
   ]
  },
  {
   "cell_type": "code",
   "execution_count": 16,
   "metadata": {},
   "outputs": [],
   "source": [
    "popularity_score = df_clean['up_votes'] + df_clean['down_votes']\n",
    "df_clean['popularity'] = popularity_score"
   ]
  },
  {
   "cell_type": "code",
   "execution_count": 17,
   "metadata": {},
   "outputs": [],
   "source": [
    "drop_columns = ['up_votes','down_votes']\n",
    "final_df = drop_col(df_clean,drop_columns)"
   ]
  },
  {
   "cell_type": "code",
   "execution_count": 18,
   "metadata": {},
   "outputs": [],
   "source": [
    "tags_df = get_tags_table(df_all_recipes,['recipe_id','tags'])\n",
    "add_pk_col(tags_df,'tags_id')"
   ]
  },
  {
   "cell_type": "code",
   "execution_count": 19,
   "metadata": {},
   "outputs": [],
   "source": [
    "tags_clean_df = transform_null(tags_df)"
   ]
  },
  {
   "cell_type": "markdown",
   "metadata": {},
   "source": [
    "## Load"
   ]
  },
  {
   "cell_type": "markdown",
   "metadata": {},
   "source": [
    "#### Declare & Assign Connection Variables for the MySQL Server & Databases with which I'll be Working"
   ]
  },
  {
   "cell_type": "code",
   "execution_count": 20,
   "metadata": {},
   "outputs": [],
   "source": [
    "host_name = \"localhost\"\n",
    "host_ip = \"127.0.0.1\"\n",
    "port = \"3306\"\n",
    "user_id = \"arong\"\n",
    "pwd = \"Passw0rd123\"\n",
    "\n",
    "# data source = tasty api\n",
    "dst_dbname = \"tasty\""
   ]
  },
  {
   "cell_type": "code",
   "execution_count": 21,
   "metadata": {},
   "outputs": [],
   "source": [
    "def get_dataframe(user_id, pwd, host_name, db_name, sql_query):\n",
    "    conn_str = f\"mysql+pymysql://{user_id}:{pwd}@{host_name}/{db_name}\"\n",
    "    sqlEngine = create_engine(conn_str, pool_recycle=3600)\n",
    "    connection = sqlEngine.connect()\n",
    "    dframe = pd.read_sql(sql_query, connection);\n",
    "    connection.close()\n",
    "    \n",
    "    return dframe\n",
    "\n",
    "\n",
    "def set_dataframe(user_id, pwd, host_name, db_name, df, table_name, pk_column, db_operation):\n",
    "    conn_str = f\"mysql+pymysql://{user_id}:{pwd}@{host_name}/{db_name}\"\n",
    "    sqlEngine = create_engine(conn_str, pool_recycle=3600)\n",
    "    connection = sqlEngine.connect()\n",
    "    \n",
    "    if db_operation == \"insert\":\n",
    "        df.to_sql(table_name, con=connection, index=False, if_exists='replace')\n",
    "        sqlEngine.execute(f\"ALTER TABLE {table_name} ADD PRIMARY KEY ({pk_column});\")\n",
    "            \n",
    "    elif db_operation == \"update\":\n",
    "        df.to_sql(table_name, con=connection, index=False, if_exists='append')\n",
    "    \n",
    "    connection.close()"
   ]
  },
  {
   "cell_type": "code",
   "execution_count": 22,
   "metadata": {},
   "outputs": [
    {
     "data": {
      "text/plain": [
       "<sqlalchemy.engine.result.ResultProxy at 0x7fc523101450>"
      ]
     },
     "execution_count": 22,
     "metadata": {},
     "output_type": "execute_result"
    }
   ],
   "source": [
    "conn_str = f\"mysql+pymysql://{user_id}:{pwd}@{host_name}\"\n",
    "sqlEngine = create_engine(conn_str, pool_recycle=3600)\n",
    "\n",
    "sqlEngine.execute(f\"DROP DATABASE IF EXISTS `{dst_dbname}`;\") # drop a database if it already exists\n",
    "sqlEngine.execute(f\"CREATE DATABASE `{dst_dbname}`;\") # create new database\n",
    "sqlEngine.execute(f\"USE {dst_dbname};\")"
   ]
  },
  {
   "cell_type": "markdown",
   "metadata": {},
   "source": [
    "### Create the Dimension Tables and Populate"
   ]
  },
  {
   "cell_type": "code",
   "execution_count": 23,
   "metadata": {},
   "outputs": [
    {
     "data": {
      "text/plain": [
       "<sqlalchemy.engine.result.ResultProxy at 0x7fc51e1ecb90>"
      ]
     },
     "execution_count": 23,
     "metadata": {},
     "output_type": "execute_result"
    }
   ],
   "source": [
    "#Creating RECIPES table\n",
    "recipe_table = '''\n",
    "    CREATE TABLE `tasty`.`Recipes` (\n",
    "      `recipe_id` INT NOT NULL,\n",
    "      `recipe_name` VARCHAR(200) NULL,\n",
    "      `score` INT NULL,\n",
    "      `total_time_minutes` INT NULL,\n",
    "      `popularity` FLOAT NULL,\n",
    "      PRIMARY KEY (`recipe_id`));\n",
    "      '''\n",
    "drop_tag = '''DROP TABLE IF EXISTS tasty.Tags;'''\n",
    "drop_table = '''\n",
    "DROP TABLE IF EXISTS tasty.Recipes;\n",
    "'''\n",
    "sqlEngine.execute(drop_tag)\n",
    "\n",
    "sqlEngine.execute(drop_table)\n",
    "sqlEngine.execute(recipe_table)"
   ]
  },
  {
   "cell_type": "code",
   "execution_count": 24,
   "metadata": {},
   "outputs": [],
   "source": [
    "table_name = 'Recipes'\n",
    "pk_column = 'recipe_id'\n",
    "db_operation = 'insert'\n",
    "\n",
    "set_dataframe(user_id, pwd, host_name, dst_dbname, final_df, table_name, pk_column, db_operation)"
   ]
  },
  {
   "cell_type": "code",
   "execution_count": 25,
   "metadata": {},
   "outputs": [
    {
     "data": {
      "text/plain": [
       "<sqlalchemy.engine.result.ResultProxy at 0x7fc51e2ef150>"
      ]
     },
     "execution_count": 25,
     "metadata": {},
     "output_type": "execute_result"
    }
   ],
   "source": [
    "#Creating the TAGS table\n",
    "tags_table = '''\n",
    "    CREATE TABLE `tasty`.`Tags` (\n",
    "      `tags_id` INT NOT NULL,\n",
    "      `recipe_id` BIGINT NULL,\n",
    "      `name` VARCHAR(45) NULL,\n",
    "      `type` VARCHAR(45) NULL,\n",
    "      PRIMARY KEY (`tags_id`),\n",
    "      FOREIGN KEY (`recipe_id`) REFERENCES Recipes(`recipe_id`));\n",
    "      '''\n",
    "\n",
    "sqlEngine.execute(tags_table)"
   ]
  },
  {
   "cell_type": "code",
   "execution_count": 26,
   "metadata": {},
   "outputs": [],
   "source": [
    "table_name = 'Tags'\n",
    "pk_column = 'tags_id'\n",
    "db_operation = 'insert'\n",
    "\n",
    "set_dataframe(user_id, pwd, host_name, dst_dbname, tags_clean_df, table_name, pk_column, db_operation)"
   ]
  },
  {
   "cell_type": "code",
   "execution_count": 27,
   "metadata": {},
   "outputs": [
    {
     "data": {
      "text/html": [
       "<div>\n",
       "<style scoped>\n",
       "    .dataframe tbody tr th:only-of-type {\n",
       "        vertical-align: middle;\n",
       "    }\n",
       "\n",
       "    .dataframe tbody tr th {\n",
       "        vertical-align: top;\n",
       "    }\n",
       "\n",
       "    .dataframe thead th {\n",
       "        text-align: right;\n",
       "    }\n",
       "</style>\n",
       "<table border=\"1\" class=\"dataframe\">\n",
       "  <thead>\n",
       "    <tr style=\"text-align: right;\">\n",
       "      <th></th>\n",
       "      <th>type</th>\n",
       "      <th>avg_score</th>\n",
       "      <th>avg_pop</th>\n",
       "    </tr>\n",
       "  </thead>\n",
       "  <tbody>\n",
       "    <tr>\n",
       "      <th>0</th>\n",
       "      <td>holiday</td>\n",
       "      <td>0.833333</td>\n",
       "      <td>24.000000</td>\n",
       "    </tr>\n",
       "    <tr>\n",
       "      <th>1</th>\n",
       "      <td>dish_style</td>\n",
       "      <td>0.865741</td>\n",
       "      <td>20.250000</td>\n",
       "    </tr>\n",
       "    <tr>\n",
       "      <th>2</th>\n",
       "      <td>equipment</td>\n",
       "      <td>0.826588</td>\n",
       "      <td>11.888889</td>\n",
       "    </tr>\n",
       "    <tr>\n",
       "      <th>3</th>\n",
       "      <td>method</td>\n",
       "      <td>0.808727</td>\n",
       "      <td>11.666667</td>\n",
       "    </tr>\n",
       "    <tr>\n",
       "      <th>4</th>\n",
       "      <td>dietary</td>\n",
       "      <td>0.680992</td>\n",
       "      <td>9.966667</td>\n",
       "    </tr>\n",
       "    <tr>\n",
       "      <th>5</th>\n",
       "      <td>appliance</td>\n",
       "      <td>0.714563</td>\n",
       "      <td>9.823529</td>\n",
       "    </tr>\n",
       "    <tr>\n",
       "      <th>6</th>\n",
       "      <td>meal</td>\n",
       "      <td>0.616492</td>\n",
       "      <td>8.457143</td>\n",
       "    </tr>\n",
       "    <tr>\n",
       "      <th>7</th>\n",
       "      <td>occasion</td>\n",
       "      <td>0.613225</td>\n",
       "      <td>6.052632</td>\n",
       "    </tr>\n",
       "    <tr>\n",
       "      <th>8</th>\n",
       "      <td>seasonal</td>\n",
       "      <td>0.200000</td>\n",
       "      <td>5.000000</td>\n",
       "    </tr>\n",
       "    <tr>\n",
       "      <th>9</th>\n",
       "      <td>cuisine</td>\n",
       "      <td>0.580491</td>\n",
       "      <td>4.608696</td>\n",
       "    </tr>\n",
       "    <tr>\n",
       "      <th>10</th>\n",
       "      <td>difficulty</td>\n",
       "      <td>0.466667</td>\n",
       "      <td>2.900000</td>\n",
       "    </tr>\n",
       "    <tr>\n",
       "      <th>11</th>\n",
       "      <td>business_tags</td>\n",
       "      <td>0.000000</td>\n",
       "      <td>0.000000</td>\n",
       "    </tr>\n",
       "  </tbody>\n",
       "</table>\n",
       "</div>"
      ],
      "text/plain": [
       "             type  avg_score    avg_pop\n",
       "0         holiday   0.833333  24.000000\n",
       "1      dish_style   0.865741  20.250000\n",
       "2       equipment   0.826588  11.888889\n",
       "3          method   0.808727  11.666667\n",
       "4         dietary   0.680992   9.966667\n",
       "5       appliance   0.714563   9.823529\n",
       "6            meal   0.616492   8.457143\n",
       "7        occasion   0.613225   6.052632\n",
       "8        seasonal   0.200000   5.000000\n",
       "9         cuisine   0.580491   4.608696\n",
       "10     difficulty   0.466667   2.900000\n",
       "11  business_tags   0.000000   0.000000"
      ]
     },
     "execution_count": 27,
     "metadata": {},
     "output_type": "execute_result"
    }
   ],
   "source": [
    "query = '''\n",
    "SELECT t.type,AVG(score) AS avg_score,AVG(popularity) AS avg_pop FROM tasty.Recipes r\n",
    "INNER JOIN tasty.Tags t ON r.recipe_id = t.recipe_id\n",
    "GROUP BY t.type\n",
    "ORDER BY avg_pop DESC, avg_score DESC;\n",
    "'''\n",
    "results = get_dataframe(user_id, pwd, host_name, dst_dbname, query)\n",
    "results\n",
    "#Just a fun query -  Looks like holiday type of dishes are the most popular and highly rated followed by dish_style"
   ]
  },
  {
   "cell_type": "code",
   "execution_count": null,
   "metadata": {},
   "outputs": [],
   "source": []
  }
 ],
 "metadata": {
  "kernelspec": {
   "display_name": "Python 3",
   "language": "python",
   "name": "python3"
  },
  "language_info": {
   "codemirror_mode": {
    "name": "ipython",
    "version": 3
   },
   "file_extension": ".py",
   "mimetype": "text/x-python",
   "name": "python",
   "nbconvert_exporter": "python",
   "pygments_lexer": "ipython3",
   "version": "3.7.4"
  }
 },
 "nbformat": 4,
 "nbformat_minor": 2
}
